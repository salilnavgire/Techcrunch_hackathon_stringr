{
 "cells": [
  {
   "cell_type": "code",
   "execution_count": 36,
   "metadata": {
    "collapsed": true
   },
   "outputs": [],
   "source": [
    "import urllib2\n",
    "import requests\n",
    "import json\n",
    "num_id = '9679046'\n",
    "from collections import Counter\n",
    "from __future__ import division\n",
    "import numpy as np"
   ]
  },
  {
   "cell_type": "code",
   "execution_count": 6,
   "metadata": {
    "collapsed": false
   },
   "outputs": [],
   "source": [
    "list3 = []\n",
    "r = requests.post('http://6f91eb69.ngrok.com/search/', {'id':num_id })\n",
    "for res in json.loads(r.text):\n",
    "    list3.append(res)"
   ]
  },
  {
   "cell_type": "code",
   "execution_count": 10,
   "metadata": {
    "collapsed": false
   },
   "outputs": [
    {
     "data": {
      "text/plain": [
       "{u'_id': u'547',\n",
       " u'_index': u'test3',\n",
       " u'_score': 1.0,\n",
       " u'_source': {u'avg_sentiment': 3.864877628076439,\n",
       "  u'city': None,\n",
       "  u'country': None,\n",
       "  u'followers_count': 39540,\n",
       "  u'full_name': u'',\n",
       "  u'id': 32191179,\n",
       "  u'playlist_count': 0,\n",
       "  u'public_favorite_count': 0,\n",
       "  u'track_count': 2,\n",
       "  u'username': u'Single Mothers'},\n",
       " u'_type': u'tweet'}"
      ]
     },
     "execution_count": 10,
     "metadata": {},
     "output_type": "execute_result"
    }
   ],
   "source": [
    "\n",
    "len(list3)\n",
    "list3[1]\n"
   ]
  },
  {
   "cell_type": "code",
   "execution_count": 73,
   "metadata": {
    "collapsed": false
   },
   "outputs": [
    {
     "name": "stdout",
     "output_type": "stream",
     "text": [
      "71.3011880068\n",
      "70.3852673054\n",
      "69.3702824463\n",
      "67.3832734613\n",
      "81.0792329962\n",
      "69.5489930655\n",
      "71.5396631524\n",
      "80.9497484709\n",
      "90.4653471214\n",
      "80.322439614\n",
      "75.104480086\n",
      "68.4953792467\n",
      "96.0600052621\n",
      "70.9821689922\n",
      "73.6116060627\n",
      "81.3389015895\n",
      "73.1004096157\n",
      "69.953453541\n",
      "74.5411345561\n",
      "86.4860815079\n"
     ]
    }
   ],
   "source": [
    "play_count = []\n",
    "followers_count = []\n",
    "pub = []\n",
    "track_count = []\n",
    "for res in list3:\n",
    "    base = res['_source']\n",
    "    play_count.append(res['_source']['playlist_count'])\n",
    "    followers_count.append(res['_source']['followers_count'])\n",
    "    pub.append(res['_source']['public_favorite_count'])\n",
    "    track_count.append(res['_source']['track_count'])\n",
    "    print (((base['avg_sentiment']*0.9)/5)+\n",
    "           ((np.maximum(base['playlist_count'], 1)/20)*0.12)+\n",
    "            ((base['followers_count']/2000000)*0.11))*100\n"
   ]
  },
  {
   "cell_type": "code",
   "execution_count": 23,
   "metadata": {
    "collapsed": false
   },
   "outputs": [
    {
     "data": {
      "text/plain": [
       "Counter({1: 7, 0: 6, 5: 2, 3: 1, 4: 1, 32: 1, 8: 1, 19: 1})"
      ]
     },
     "execution_count": 23,
     "metadata": {},
     "output_type": "execute_result"
    }
   ],
   "source": [
    "Counter(play_count)"
   ]
  },
  {
   "cell_type": "code",
   "execution_count": 24,
   "metadata": {
    "collapsed": false
   },
   "outputs": [
    {
     "data": {
      "text/plain": [
       "Counter({321: 1, 1636867: 1, 37: 1, 56038: 1, 1416939: 1, 404712: 1, 1278089: 1, 2195754: 1, 43: 1, 695: 1, 32885: 1, 79: 1, 1364082: 1, 9891: 1, 39540: 1, 21: 1, 4042665: 1, 5370: 1, 81820: 1, 424607: 1})"
      ]
     },
     "execution_count": 24,
     "metadata": {},
     "output_type": "execute_result"
    }
   ],
   "source": [
    "Counter(followers_count)"
   ]
  },
  {
   "cell_type": "code",
   "execution_count": 25,
   "metadata": {
    "collapsed": false
   },
   "outputs": [
    {
     "data": {
      "text/plain": [
       "Counter({0: 5, 2: 4, 3: 4, 26: 2, 1: 1, 4: 1, 9: 1, 35: 1, 63: 1})"
      ]
     },
     "execution_count": 25,
     "metadata": {},
     "output_type": "execute_result"
    }
   ],
   "source": [
    "Counter(pub)"
   ]
  },
  {
   "cell_type": "code",
   "execution_count": 26,
   "metadata": {
    "collapsed": false
   },
   "outputs": [
    {
     "data": {
      "text/plain": [
       "Counter({2: 3, 5: 2, 1: 1, 6: 1, 33: 1, 136: 1, 9: 1, 209: 1, 7: 1, 174: 1, 17: 1, 10: 1, 20: 1, 90: 1, 27: 1, 106: 1, 31: 1})"
      ]
     },
     "execution_count": 26,
     "metadata": {},
     "output_type": "execute_result"
    }
   ],
   "source": [
    "Counter(track_count)"
   ]
  },
  {
   "cell_type": "code",
   "execution_count": null,
   "metadata": {
    "collapsed": true
   },
   "outputs": [],
   "source": []
  }
 ],
 "metadata": {
  "kernelspec": {
   "display_name": "Python 2",
   "language": "python",
   "name": "python2"
  },
  "language_info": {
   "codemirror_mode": {
    "name": "ipython",
    "version": 2
   },
   "file_extension": ".py",
   "mimetype": "text/x-python",
   "name": "python",
   "nbconvert_exporter": "python",
   "pygments_lexer": "ipython2",
   "version": "2.7.9"
  }
 },
 "nbformat": 4,
 "nbformat_minor": 0
}
