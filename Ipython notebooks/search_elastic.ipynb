{
 "cells": [
  {
   "cell_type": "code",
   "execution_count": 32,
   "metadata": {
    "collapsed": true
   },
   "outputs": [],
   "source": [
    "from elasticsearch import Elasticsearch\n",
    "import requests"
   ]
  },
  {
   "cell_type": "code",
   "execution_count": 3,
   "metadata": {
    "collapsed": false
   },
   "outputs": [
    {
     "name": "stdout",
     "output_type": "stream",
     "text": [
      "<Elasticsearch([{}])>\n"
     ]
    }
   ],
   "source": [
    "es = Elasticsearch()\n",
    "print es"
   ]
  },
  {
   "cell_type": "code",
   "execution_count": 5,
   "metadata": {
    "collapsed": false
   },
   "outputs": [],
   "source": [
    "res = es.search(index='test1', doc_type='tweet', body={\"query\":{\"match_all\":{}}}, size=100000)\n"
   ]
  },
  {
   "cell_type": "code",
   "execution_count": 6,
   "metadata": {
    "collapsed": false,
    "scrolled": false
   },
   "outputs": [
    {
     "name": "stdout",
     "output_type": "stream",
     "text": [
      "{u'hits': {u'hits': [{u'_score': 1.0, u'_type': u'tweet', u'_id': u'9679046', u'_source': {u'lol': u'hahah'}, u'_index': u'test1'}, {u'_score': 1.0, u'_type': u'tweet', u'_id': u'2422631', u'_source': {u'lol': u'hahah'}, u'_index': u'test1'}, {u'_score': 1.0, u'_type': u'tweet', u'_id': u'3966515', u'_source': {u'lol': u'hahah'}, u'_index': u'test1'}, {u'_score': 1.0, u'_type': u'tweet', u'_id': u'4263931', u'_source': {u'lol': u'hahah'}, u'_index': u'test1'}, {u'_score': 1.0, u'_type': u'tweet', u'_id': u'9763705', u'_source': {u'lol': u'hahah'}, u'_index': u'test1'}, {u'_score': 1.0, u'_type': u'tweet', u'_id': u'942279', u'_source': {u'lol': u'hahah'}, u'_index': u'test1'}, {u'_score': 1.0, u'_type': u'tweet', u'_id': u'32215203', u'_source': {u'lol': u'hahah'}, u'_index': u'test1'}, {u'_score': 1.0, u'_type': u'tweet', u'_id': u'32191179', u'_source': {u'lol': u'hahah'}, u'_index': u'test1'}, {u'_score': 1.0, u'_type': u'tweet', u'_id': u'76154343', u'_source': {u'lol': u'hahah'}, u'_index': u'test1'}, {u'_score': 1.0, u'_type': u'tweet', u'_id': u'1072199', u'_source': {u'lol': u'hahah'}, u'_index': u'test1'}, {u'_score': 1.0, u'_type': u'tweet', u'_id': u'1', u'_source': {u'lol': u'hahah'}, u'_index': u'test1'}, {u'_score': 1.0, u'_type': u'tweet', u'_id': u'7559526', u'_source': {u'lol': u'hahah'}, u'_index': u'test1'}, {u'_score': 1.0, u'_type': u'tweet', u'_id': u'31162695', u'_source': {u'lol': u'hahah'}, u'_index': u'test1'}, {u'_score': 1.0, u'_type': u'tweet', u'_id': u'59606580', u'_source': {u'lol': u'hahah'}, u'_index': u'test1'}, {u'_score': 1.0, u'_type': u'tweet', u'_id': u'15910174', u'_source': {u'lol': u'hahah'}, u'_index': u'test1'}, {u'_score': 1.0, u'_type': u'tweet', u'_id': u'4629851', u'_source': {u'lol': u'hahah'}, u'_index': u'test1'}, {u'_score': 1.0, u'_type': u'tweet', u'_id': u'44967370', u'_source': {u'lol': u'hahah'}, u'_index': u'test1'}, {u'_score': 1.0, u'_type': u'tweet', u'_id': u'922374', u'_source': {u'lol': u'hahah'}, u'_index': u'test1'}, {u'_score': 1.0, u'_type': u'tweet', u'_id': u'526486', u'_source': {u'lol': u'hahah'}, u'_index': u'test1'}, {u'_score': 1.0, u'_type': u'tweet', u'_id': u'1807424', u'_source': {u'lol': u'hahah'}, u'_index': u'test1'}, {u'_score': 1.0, u'_type': u'tweet', u'_id': u'4003901', u'_source': {u'lol': u'hahah'}, u'_index': u'test1'}], u'total': 21, u'max_score': 1.0}, u'_shards': {u'successful': 5, u'failed': 0, u'total': 5}, u'took': 2, u'timed_out': False}\n"
     ]
    }
   ],
   "source": [
    "print res"
   ]
  },
  {
   "cell_type": "code",
   "execution_count": 19,
   "metadata": {
    "collapsed": true
   },
   "outputs": [],
   "source": [
    "body1 = {\"query\":\n",
    "         {'match':\n",
    "          {\"id\":'9679046'}\n",
    "         }\n",
    "        }\n",
    "\n",
    "\n",
    "body2 = {\"query\":\n",
    "         {\"match_all\":\n",
    "            {\n",
    "            }\n",
    "        }\n",
    "         }"
   ]
  },
  {
   "cell_type": "code",
   "execution_count": 22,
   "metadata": {
    "collapsed": false
   },
   "outputs": [],
   "source": [
    "res = es.search(index='test1', doc_type='tweet', body=body1, size=100000)\n"
   ]
  },
  {
   "cell_type": "code",
   "execution_count": 27,
   "metadata": {
    "collapsed": false
   },
   "outputs": [
    {
     "name": "stdout",
     "output_type": "stream",
     "text": [
      "[{u'_score': 1.0, u'_type': u'tweet', u'_id': u'3', u'_source': {u'id': 9679046, u'lol': u'hahah'}, u'_index': u'test1'}]\n"
     ]
    }
   ],
   "source": [
    "print res['hits']['hits']"
   ]
  },
  {
   "cell_type": "code",
   "execution_count": 30,
   "metadata": {
    "collapsed": false
   },
   "outputs": [
    {
     "name": "stdout",
     "output_type": "stream",
     "text": [
      "{u'id': 9679046, u'lol': u'hahah'}\n"
     ]
    }
   ],
   "source": [
    "print res['hits']['hits'][0]['_source']\n"
   ]
  },
  {
   "cell_type": "code",
   "execution_count": 35,
   "metadata": {
    "collapsed": false
   },
   "outputs": [],
   "source": [
    "def sentiment(data):\n",
    "    r = requests.post('http://localhost:9997/sentiment/', {'data': data})\n",
    "    return r.text\n"
   ]
  },
  {
   "cell_type": "code",
   "execution_count": null,
   "metadata": {
    "collapsed": true
   },
   "outputs": [],
   "source": []
  }
 ],
 "metadata": {
  "kernelspec": {
   "display_name": "Python 2",
   "language": "python",
   "name": "python2"
  },
  "language_info": {
   "codemirror_mode": {
    "name": "ipython",
    "version": 2
   },
   "file_extension": ".py",
   "mimetype": "text/x-python",
   "name": "python",
   "nbconvert_exporter": "python",
   "pygments_lexer": "ipython2",
   "version": "2.7.9"
  }
 },
 "nbformat": 4,
 "nbformat_minor": 0
}
