{
 "cells": [
  {
   "cell_type": "code",
   "execution_count": 189,
   "metadata": {
    "collapsed": false
   },
   "outputs": [
    {
     "name": "stdout",
     "output_type": "stream",
     "text": [
      "<Elasticsearch([{}])>\n"
     ]
    }
   ],
   "source": [
    "import soundcloud\n",
    "from collections import Counter\n",
    "import json\n",
    "from collections import defaultdict\n",
    "from elasticsearch import Elasticsearch\n",
    "es = Elasticsearch()\n",
    "print es\n",
    "import numpy as np\n",
    "import requests\n",
    "from __future__ import division\n",
    "import operator"
   ]
  },
  {
   "cell_type": "code",
   "execution_count": 85,
   "metadata": {
    "collapsed": true
   },
   "outputs": [],
   "source": [
    "def sentiment(data):\n",
    "    r = requests.post('http://localhost:9997/sentiment/', {'data': data})\n",
    "    return r.text"
   ]
  },
  {
   "cell_type": "code",
   "execution_count": 7,
   "metadata": {
    "collapsed": false
   },
   "outputs": [],
   "source": [
    "\n",
    "client = soundcloud.Client(client_id='21c154c0424e721ba43428dc0b5af838')\n",
    "\n"
   ]
  },
  {
   "cell_type": "code",
   "execution_count": 8,
   "metadata": {
    "collapsed": false
   },
   "outputs": [],
   "source": [
    "\n",
    "tracks = client.get('/tracks', genres='punk', license='cc-by-sa')\n",
    "\n"
   ]
  },
  {
   "cell_type": "code",
   "execution_count": null,
   "metadata": {
    "collapsed": false
   },
   "outputs": [],
   "source": []
  },
  {
   "cell_type": "code",
   "execution_count": 9,
   "metadata": {
    "collapsed": true
   },
   "outputs": [],
   "source": [
    "uri = []\n",
    "for res in tracks:\n",
    "    #print res.id\n",
    "    #print res.user['id'], res.user['username'], res.user['uri']\n",
    "    uri.append(res.user['uri'])\n",
    "    "
   ]
  },
  {
   "cell_type": "code",
   "execution_count": 103,
   "metadata": {
    "collapsed": false
   },
   "outputs": [
    {
     "data": {
      "text/plain": [
       "[u'https://api.soundcloud.com/users/32215203',\n",
       " u'https://api.soundcloud.com/users/76154343',\n",
       " u'https://api.soundcloud.com/users/4629851',\n",
       " u'https://api.soundcloud.com/users/526486',\n",
       " u'https://api.soundcloud.com/users/4263931',\n",
       " u'https://api.soundcloud.com/users/32191179',\n",
       " u'https://api.soundcloud.com/users/4003901',\n",
       " u'https://api.soundcloud.com/users/59606580',\n",
       " u'https://api.soundcloud.com/users/7559526',\n",
       " u'https://api.soundcloud.com/users/9679046',\n",
       " u'https://api.soundcloud.com/users/31162695',\n",
       " u'https://api.soundcloud.com/users/3966515',\n",
       " u'https://api.soundcloud.com/users/15910174',\n",
       " u'https://api.soundcloud.com/users/44967370',\n",
       " u'https://api.soundcloud.com/users/922374',\n",
       " u'https://api.soundcloud.com/users/1072199',\n",
       " u'https://api.soundcloud.com/users/2422631',\n",
       " u'https://api.soundcloud.com/users/9763705',\n",
       " u'https://api.soundcloud.com/users/1807424',\n",
       " u'https://api.soundcloud.com/users/942279']"
      ]
     },
     "execution_count": 103,
     "metadata": {},
     "output_type": "execute_result"
    }
   ],
   "source": [
    "Counter(uri).keys()"
   ]
  },
  {
   "cell_type": "code",
   "execution_count": 104,
   "metadata": {
    "collapsed": false
   },
   "outputs": [],
   "source": [
    "\n",
    "user_info = []\n",
    "\n",
    "for res in Counter(uri).keys():\n",
    "    #print res\n",
    "    user_info.append(client.get('/resolve', url=res))\n",
    "\n"
   ]
  },
  {
   "cell_type": "code",
   "execution_count": 106,
   "metadata": {
    "collapsed": false
   },
   "outputs": [
    {
     "data": {
      "text/plain": [
       "20"
      ]
     },
     "execution_count": 106,
     "metadata": {},
     "output_type": "execute_result"
    }
   ],
   "source": [
    "len(user_info)"
   ]
  },
  {
   "cell_type": "code",
   "execution_count": 16,
   "metadata": {
    "collapsed": false
   },
   "outputs": [
    {
     "data": {
      "text/plain": [
       "'\\nusers:userid{\\n\\tusername:\\n\\tfull_name:\\n\\tcountrty:\\n\\tcity:\\n\\ttrack_count:\\n\\tplaylist_count:\\n\\tfollowers_count:\\n\\tpublic_favorite_count:\\n\\ttags_list:\\n\\tgenres_max:\\n\\ttop_stream_urls:\\tnum_favorites:\\n\\tavg_sentiment:\\n\\tscore:\\n}\\n'"
      ]
     },
     "execution_count": 16,
     "metadata": {},
     "output_type": "execute_result"
    }
   ],
   "source": [
    "\n",
    "'''\n",
    "users:userid{\n",
    "\tusername:\n",
    "\tfull_name:\n",
    "\tcountrty:\n",
    "\tcity:\n",
    "\ttrack_count:\n",
    "\tplaylist_count:\n",
    "\tfollowers_count:\n",
    "\tpublic_favorite_count:\n",
    "\ttags_list:\n",
    "\tgenres_max:\n",
    "\ttop_stream_urls:\tnum_favorites:\n",
    "\tavg_sentiment:\n",
    "\tscore:\n",
    "}\n",
    "'''"
   ]
  },
  {
   "cell_type": "code",
   "execution_count": 18,
   "metadata": {
    "collapsed": false
   },
   "outputs": [],
   "source": []
  },
  {
   "cell_type": "code",
   "execution_count": 19,
   "metadata": {
    "collapsed": false,
    "scrolled": true
   },
   "outputs": [
    {
     "name": "stdout",
     "output_type": "stream",
     "text": [
      "{\n",
      "    \"website\":null,\n",
      "    \"myspace_name\":null,\n",
      "    \"last_name\":\"Carvalho\",\n",
      "    \"public_favorites_count\":35,\n",
      "    \"followings_count\":826,\n",
      "    \"full_name\":\"Igor Carvalho\",\n",
      "    \"id\":9679046,\n",
      "    \"city\":\"Pa\\u00e7os de Ferreira\",\n",
      "    \"first_name\":\"Igor\",\n",
      "    \"track_count\":31,\n",
      "    \"playlist_count\":3,\n",
      "    \"discogs_name\":null,\n",
      "    \"followers_count\":321,\n",
      "    \"online\":false,\n",
      "    \"username\":\"Igor Carvalho\",\n",
      "    \"description\":\"Thanks you all!\\r\\nCheck out down here the links to twitter and more!\",\n",
      "    \"subscriptions\":[],\n",
      "    \"kind\":\"user\",\n",
      "    \"last_modified\":\"2015/01/15 16:32:58 +0000\",\n",
      "    \"website_title\":null,\n",
      "    \"permalink_url\":\"http://soundcloud.com/igorcarvalho\",\n",
      "    \"permalink\":\"igorcarvalho\",\n",
      "    \"country\":\"Portugal\",\n",
      "    \"uri\":\"https://api.soundcloud.com/users/9679046\",\n",
      "    \"avatar_url\":\"https://i1.sndcdn.com/avatars-000125399868-lp0i89-large.jpg\",\n",
      "    \"plan\":\"Free\"\n",
      "}\n"
     ]
    }
   ],
   "source": [
    "attrs = vars(user_info[0])\n",
    "\n",
    "print json.dumps(attrs['obj'], separators=(',',':'), indent=4)\n"
   ]
  },
  {
   "cell_type": "code",
   "execution_count": 37,
   "metadata": {
    "collapsed": false
   },
   "outputs": [],
   "source": [
    "users = defaultdict(list)\n",
    "for res in user_info:\n",
    "    attrs = vars(res)['obj']\n",
    "    #print json.dumps(attrs['obj'], separators=(',',':'), indent=4)\n",
    "    #print attrs['obj']['website']\n",
    "    users[attrs['id']].append(attrs['website'])\n"
   ]
  },
  {
   "cell_type": "code",
   "execution_count": 38,
   "metadata": {
    "collapsed": false
   },
   "outputs": [
    {
     "data": {
      "text/plain": [
       "defaultdict(<type 'list'>, {1807424: [u'http://paperplastick.limitedrun.com', u'http://paperplastick.limitedrun.com', u'http://paperplastick.limitedrun.com', u'http://paperplastick.limitedrun.com', u'http://paperplastick.limitedrun.com', u'http://paperplastick.limitedrun.com', u'http://paperplastick.limitedrun.com', u'http://paperplastick.limitedrun.com'], 32215203: [None], 9679046: [None], 7559526: [u'http://www.blink182.com'], 31162695: [None, None], 44967370: [u'http://purenoise.net'], 2422631: [None], 32191179: [None], 76154343: [None], 922374: [u'http://www.epitaph.com', u'http://www.epitaph.com', u'http://www.epitaph.com'], 3966515: [None, None, None, None], 59606580: [None], 15910174: [u'http://hitmixbase.de'], 526486: [u'http://www.djerb.net'], 4263931: [None, None], 9763705: [None], 1072199: [u'http://www.fearlessrecords.com', u'http://www.fearlessrecords.com', u'http://www.fearlessrecords.com'], 4629851: [u'http://www.fatwreck.com', u'http://www.fatwreck.com', u'http://www.fatwreck.com', u'http://www.fatwreck.com', u'http://www.fatwreck.com', u'http://www.fatwreck.com', u'http://www.fatwreck.com', u'http://www.fatwreck.com', u'http://www.fatwreck.com', u'http://www.fatwreck.com', u'http://www.fatwreck.com', u'http://www.fatwreck.com'], 4003901: [u'http://sabrinasabrokband.com', u'http://sabrinasabrokband.com'], 942279: [u'http://www.hell-cat.com/', u'http://www.hell-cat.com/', u'http://www.hell-cat.com/']})"
      ]
     },
     "execution_count": 38,
     "metadata": {},
     "output_type": "execute_result"
    }
   ],
   "source": [
    "users"
   ]
  },
  {
   "cell_type": "code",
   "execution_count": 48,
   "metadata": {
    "collapsed": false,
    "scrolled": false
   },
   "outputs": [
    {
     "name": "stdout",
     "output_type": "stream",
     "text": [
      "1807424\n",
      "32215203\n",
      "9679046\n",
      "7559526\n",
      "31162695\n",
      "44967370\n",
      "2422631\n",
      "32191179\n",
      "76154343\n",
      "922374\n",
      "3966515\n",
      "59606580\n",
      "15910174\n",
      "526486\n",
      "4263931\n",
      "9763705\n",
      "1072199\n",
      "4629851\n",
      "4003901\n",
      "942279\n"
     ]
    }
   ],
   "source": [
    "count=0\n",
    "\n",
    "for keys in users:\n",
    "    print keys\n",
    "    count+=1\n",
    "    \n",
    "    body_query = {\n",
    "        'username': \n",
    "        'full_name':\n",
    "        'countrty':\n",
    "        'city':\n",
    "        'track_count':\n",
    "        'playlist_count':\n",
    "        'followers_count':\n",
    "        'public_favorite_count':\n",
    "        'tags_list':\n",
    "        'genres_max':\n",
    "        'top_stream_urls':\n",
    "        'num_favorites':\n",
    "        'avg_sentiment':\n",
    "        'score':\n",
    "            }\n",
    "    body_test = {'lol':'hahah', 'id':keys}\n",
    "    \n",
    "    es.index(index=\"test1\", doc_type='tweet', id=count, body=body_test)\n"
   ]
  },
  {
   "cell_type": "code",
   "execution_count": 199,
   "metadata": {
    "collapsed": false
   },
   "outputs": [],
   "source": [
    "ids = []\n",
    "\n",
    "for res in user_info:\n",
    "    #print \n",
    "    attrs = vars(res)['obj']\n",
    "    ids.append(attrs['id'])\n",
    "\n",
    "\n"
   ]
  },
  {
   "cell_type": "code",
   "execution_count": 201,
   "metadata": {
    "collapsed": false
   },
   "outputs": [
    {
     "name": "stdout",
     "output_type": "stream",
     "text": [
      "[2422631, 1807424, 31162695, 4629851, 9679046, 7559526, 76154343, 44967370, 32191179, 942279, 3966515, 922374, 32215203, 59606580, 526486, 9763705, 1072199, 4263931, 4003901, 15910174]\n"
     ]
    }
   ],
   "source": [
    "print Counter(ids).keys()\n"
   ]
  },
  {
   "cell_type": "code",
   "execution_count": 207,
   "metadata": {
    "collapsed": false,
    "scrolled": true
   },
   "outputs": [
    {
     "name": "stdout",
     "output_type": "stream",
     "text": [
      "<soundcloud.resource.Resource object at 0x10ba7dc10>\n",
      "32215203\n",
      "3.9028432226\n",
      "[(u'http://soundcloud.com/dhatu/offering', 643.37798498107907), (u'http://soundcloud.com/dhatu/rta', 354.7107619844644), (u'http://soundcloud.com/dhatu/naheo-v1-cover-cree-summer-ft-mecca-kalani', 158.57172639542998)]\n",
      "71.3011880068\n",
      "<soundcloud.resource.Resource object at 0x1099a51d0>\n",
      "76154343\n",
      "3.83049319808\n",
      "[(u'http://soundcloud.com/infinitecurlsxx/the-mighty-fall-fall-out-boy', 65.118384367429996)]\n",
      "69.5489930655\n",
      "<soundcloud.resource.Resource object at 0x10ab34210>\n",
      "4629851\n",
      "3.89607083967\n",
      "[(u'http://soundcloud.com/fat-wreck-chords/lagwagon-the-cog-in-the-machine', 201.05639176738876), (u'http://soundcloud.com/fat-wreck-chords/strung-out-spanish-days', 112.0646752754384), (u'http://soundcloud.com/fat-wreck-chords/strung-out-the-animal-and-the-machine', 60.42894549481997)]\n",
      "80.322439614\n",
      "<soundcloud.resource.Resource object at 0x10ba15e50>\n",
      "526486\n",
      "3.90990813845\n",
      "[(u'http://soundcloud.com/djerb/daft-punk-get-lucky-bee-gees', 456.58202671481735), (u'http://soundcloud.com/djerb/daft-punk-lose-yourself-to', 26.083466557927942), (u'http://soundcloud.com/djerb/imagine-dragons-lana-del-rey', 15.963635173509473)]\n",
      "70.9821689922\n",
      "<soundcloud.resource.Resource object at 0x10b8e9a50>\n",
      "4263931\n",
      "4.01775233976\n",
      "[(u'http://soundcloud.com/floggingmolly/saints-sinners', 96.591021165450002), (u'http://soundcloud.com/floggingmolly/flogging-molly-revolution', 30.764093625354931), (u'http://soundcloud.com/floggingmolly/revolution', 13.135244450784548)]\n",
      "73.1004096157\n",
      "<soundcloud.resource.Resource object at 0x10b0c75d0>\n",
      "32191179\n",
      "3.86487762808\n",
      "[(u'http://soundcloud.com/single-mothers/christian-girls', 165.56507753366577), (u'http://soundcloud.com/single-mothers/marbles', 66.310162207480005)]\n",
      "70.3852673054\n",
      "<soundcloud.resource.Resource object at 0x10b8e9e50>\n",
      "4003901\n",
      "3.81743039736\n",
      "[(u'http://soundcloud.com/sabrina-sabrok/springs-upon-dry-earth-00-mp3', 154.02601904609995), (u'http://soundcloud.com/sabrina-sabrok/welcome-to-the-huma-race-01-1', 16.188481866137714), (u'http://soundcloud.com/sabrina-sabrok/springs-upon-dry-earth', 13.102013562591882)]\n",
      "71.5396631524\n",
      "<soundcloud.resource.Resource object at 0x10ba15c10>\n",
      "59606580\n",
      "4.139126477\n",
      "[(u'http://soundcloud.com/steven-m-ller-26/sdp-wer-ficken-will-muss', 66.226023632039983), (u'http://soundcloud.com/steven-m-ller-26/sdp-feat-keule-h-tte-h-tte', 0.0)]\n",
      "75.104480086\n",
      "<soundcloud.resource.Resource object at 0x10ba15b90>\n",
      "7559526\n",
      "3.96372110949\n",
      "[(u'http://soundcloud.com/blink-182/when-i-was-young', 797.47682838753963), (u'http://soundcloud.com/blink-182/dogs-eating-dogs', 391.99201399529471), (u'http://soundcloud.com/blink-182/disaster', 265.46041733479314)]\n",
      "80.9497484709\n",
      "<soundcloud.resource.Resource object at 0x10ba15bd0>\n",
      "9679046\n",
      "3.7052007637\n",
      "[(u'http://soundcloud.com/igorcarvalho/fall-out-boy-thanks-for-the', 602.7461977027499), (u'http://soundcloud.com/igorcarvalho/fontains-of-wayne-stacys-mom', 76.069808207491008), (u'http://soundcloud.com/igorcarvalho/jimmy-eat-world-the-middle', 17.343269589917085)]\n",
      "68.4953792467\n",
      "<soundcloud.resource.Resource object at 0x10ba15910>\n",
      "31162695\n",
      "3.92645930904\n",
      "[(u'http://soundcloud.com/romanticista/yo-te-amo', 48.738858662777631), (u'http://soundcloud.com/romanticista/psicomoestas', 25.701127941817781), (u'http://soundcloud.com/romanticista/siempre-en-vanidad', 17.976705834353332)]\n",
      "73.6116060627\n",
      "<soundcloud.resource.Resource object at 0x10ba15c50>\n",
      "3966515\n",
      "3.85132880783\n",
      "[(u'http://soundcloud.com/bowlingforsoup/high-school-never-ends', 332.10957783518023), (u'http://soundcloud.com/bowlingforsoup/1985-1', 261.26899524215935), (u'http://soundcloud.com/bowlingforsoup/girl-all-the-bad-guys-want', 116.30769193954421)]\n",
      "69.953453541\n",
      "<soundcloud.resource.Resource object at 0x10bb027d0>\n",
      "15910174\n",
      "3.82055810813\n",
      "[(u'http://soundcloud.com/dj-technox/dark-horse-screamo-cover-punk-goes-pop', 100.18186473036931), (u'http://soundcloud.com/dj-technox/pharrell-williams-happy-metal-cover-by-umc', 7.4022704360800002), (u'http://soundcloud.com/dj-technox/soundfile', 0.11926834531451612)]\n",
      "69.3702824463\n",
      "<soundcloud.resource.Resource object at 0x10bb02210>\n",
      "44967370\n",
      "3.95616370119\n",
      "[(u'http://soundcloud.com/purenoiserecs/the-story-so-far-nerve', 40.081421770456402), (u'http://soundcloud.com/purenoiserecs/the-story-so-far-heavy-gloom', 16.860975961160001), (u'http://soundcloud.com/purenoiserecs/the-story-so-far-solo', 13.726354323730906)]\n",
      "90.4653471214\n",
      "<soundcloud.resource.Resource object at 0x10bb02190>\n",
      "922374\n",
      "3.93474154234\n",
      "[(u'http://soundcloud.com/epitaph-records/this-wild-life-history', 226.67970037672612), (u'http://soundcloud.com/epitaph-records/now-and-on-earth-your-number-is-up', 158.34061663344002), (u'http://soundcloud.com/epitaph-records/motion-city-soundtrack-1', 127.56297306789402)]\n",
      "96.0600052621\n",
      "<soundcloud.resource.Resource object at 0x10bb02350>\n",
      "1072199\n",
      "3.86837181053\n",
      "[(u'http://soundcloud.com/fearlessrecords/we-came-as-romans-i-knew-you-you-were-trouble', 249.56735902101764), (u'http://soundcloud.com/fearlessrecords/motionless-in-white-break-the-cycle', 151.90338517520811), (u'http://soundcloud.com/fearlessrecords/motionless-in-white-reincanate', 142.85720787467088)]\n",
      "81.3389015895\n",
      "<soundcloud.resource.Resource object at 0x10bb02a10>\n",
      "2422631\n",
      "3.69103797534\n",
      "[(u'http://soundcloud.com/metztheband/metz-pig-sparkle-horse-cover', 258.55875692026569), (u'http://soundcloud.com/metztheband/wet-blanket-demo', 157.55154885986019), (u'http://soundcloud.com/metztheband/soft-whiteout', 57.198445067871987)]\n",
      "74.5411345561\n",
      "<soundcloud.resource.Resource object at 0x10bb02690>\n",
      "9763705\n",
      "3.71015772007\n",
      "[(u'http://soundcloud.com/randomlines/the-dead-kennedys-holiday-in', 144.69615108280999), (u'http://soundcloud.com/randomlines/xmas-wish', 0.0)]\n",
      "67.3832734613\n",
      "<soundcloud.resource.Resource object at 0x10bb02c10>\n",
      "1807424\n",
      "3.86719080599\n",
      "[(u'http://soundcloud.com/paperandplastick/1-dull', 102.85436077339426), (u'http://soundcloud.com/paperandplastick/01-call-in-dead', 16.166316842466664), (u'http://soundcloud.com/paperandplastick/the-ring', 4.2085444090599999)]\n",
      "86.4860815079\n",
      "<soundcloud.resource.Resource object at 0x10bb02e90>\n",
      "942279\n",
      "3.94720797201\n",
      "[(u'http://soundcloud.com/hellcatrecords/rancid-evils-my-friend', 52.397916333933679), (u'http://soundcloud.com/hellcatrecords/rancid-collision-course', 25.786396336347501), (u'http://soundcloud.com/hellcatrecords/03-up-to-no-good', 13.810103063314839)]\n",
      "81.0792329962\n"
     ]
    }
   ],
   "source": [
    "\n",
    "\n",
    "for res in user_info:\n",
    "    print res\n",
    "    attrs = vars(res)['obj']\n",
    "    #print json.dumps(attrs, separators=(',',':'), indent=4)\n",
    "    print attrs['id']\n",
    "    count+=1\n",
    "    avg_sen, sorted_x = get_sentiment(attrs['id'])\n",
    "    \n",
    "    base = attrs\n",
    "    print ((((avg_sen*0.9)/5)+((np.maximum(base['playlist_count'], 1)/20)*0.12)+((base['followers_count']/2000000)*0.11))*100)\n",
    "    try:\n",
    "        body_query = {\n",
    "            'id': attrs['id'],\n",
    "            'username': attrs['username'],\n",
    "            'full_name': attrs['full_name'],\n",
    "            'country': attrs['country'],\n",
    "            'city': attrs['city'],\n",
    "            'track_count': attrs['track_count'],\n",
    "            'playlist_count': attrs['playlist_count'],\n",
    "            'followers_count': attrs['followers_count'],\n",
    "            'public_favorite_count': attrs['public_favorites_count'],\n",
    "            #'tags_list': [],\n",
    "            #'genres_max': [],\n",
    "            #'top_stream_urls': [],\n",
    "            'avg_sentiment': avg_sen,\n",
    "            'score' : ((((avg_sen*0.9)/5)+((np.maximum(base['playlist_count'], 1)/20)*0.12)+((base['followers_count']/2000000)*0.11))*100),\n",
    "            'links' : sorted_x\n",
    "                }\n",
    "    except KeyError:\n",
    "        pass\n",
    "    except IndexError:\n",
    "        pass\n",
    "\n",
    "    body_test = {'lol':'hahah', 'id':keys}\n",
    "    es.index(index=\"test9\", doc_type='tweet', id=count, body=body_query)\n",
    "    #print get_sentiment(attrs['id'])\n",
    "\n",
    "    #print body_query\n"
   ]
  },
  {
   "cell_type": "code",
   "execution_count": 91,
   "metadata": {
    "collapsed": false
   },
   "outputs": [
    {
     "name": "stdout",
     "output_type": "stream",
     "text": [
      "9679046\n"
     ]
    },
    {
     "ename": "KeyboardInterrupt",
     "evalue": "",
     "output_type": "error",
     "traceback": [
      "\u001b[0;31m---------------------------------------------------------------------------\u001b[0m",
      "\u001b[0;31mKeyboardInterrupt\u001b[0m                         Traceback (most recent call last)",
      "\u001b[0;32m<ipython-input-91-6b0bbcc9c900>\u001b[0m in \u001b[0;36m<module>\u001b[0;34m()\u001b[0m\n\u001b[1;32m     13\u001b[0m         \u001b[0mcom_id\u001b[0m \u001b[0;34m=\u001b[0m \u001b[0mattrs\u001b[0m\u001b[0;34m[\u001b[0m\u001b[0;34m'obj'\u001b[0m\u001b[0;34m]\u001b[0m\u001b[0;34m[\u001b[0m\u001b[0;34m'id'\u001b[0m\u001b[0;34m]\u001b[0m\u001b[0;34m\u001b[0m\u001b[0m\n\u001b[1;32m     14\u001b[0m         \u001b[0;31m#print com_id\u001b[0m\u001b[0;34m\u001b[0m\u001b[0;34m\u001b[0m\u001b[0m\n\u001b[0;32m---> 15\u001b[0;31m         \u001b[0mcomment_info\u001b[0m \u001b[0;34m=\u001b[0m \u001b[0mclient\u001b[0m\u001b[0;34m.\u001b[0m\u001b[0mget\u001b[0m\u001b[0;34m(\u001b[0m\u001b[0;34m'/tracks/'\u001b[0m\u001b[0;34m+\u001b[0m\u001b[0mstr\u001b[0m\u001b[0;34m(\u001b[0m\u001b[0mcom_id\u001b[0m\u001b[0;34m)\u001b[0m\u001b[0;34m+\u001b[0m\u001b[0;34m'/comments/'\u001b[0m\u001b[0;34m,\u001b[0m \u001b[0;34m)\u001b[0m\u001b[0;34m\u001b[0m\u001b[0m\n\u001b[0m\u001b[1;32m     16\u001b[0m         \u001b[0;31m#print comment_info\u001b[0m\u001b[0;34m\u001b[0m\u001b[0;34m\u001b[0m\u001b[0m\n\u001b[1;32m     17\u001b[0m \u001b[0;34m\u001b[0m\u001b[0m\n",
      "\u001b[0;32m/Users/salilnavgire/.virtualenvs/testing/lib/python2.7/site-packages/soundcloud/client.pyc\u001b[0m in \u001b[0;36m_request\u001b[0;34m(self, method, resource, **kwargs)\u001b[0m\n\u001b[1;32m    128\u001b[0m             \u001b[0;34m'proxies'\u001b[0m\u001b[0;34m:\u001b[0m \u001b[0mself\u001b[0m\u001b[0;34m.\u001b[0m\u001b[0moptions\u001b[0m\u001b[0;34m.\u001b[0m\u001b[0mget\u001b[0m\u001b[0;34m(\u001b[0m\u001b[0;34m'proxies'\u001b[0m\u001b[0;34m,\u001b[0m \u001b[0mNone\u001b[0m\u001b[0;34m)\u001b[0m\u001b[0;34m\u001b[0m\u001b[0m\n\u001b[1;32m    129\u001b[0m         })\n\u001b[0;32m--> 130\u001b[0;31m         \u001b[0;32mreturn\u001b[0m \u001b[0mwrapped_resource\u001b[0m\u001b[0;34m(\u001b[0m\u001b[0mmake_request\u001b[0m\u001b[0;34m(\u001b[0m\u001b[0mmethod\u001b[0m\u001b[0;34m,\u001b[0m \u001b[0murl\u001b[0m\u001b[0;34m,\u001b[0m \u001b[0mkwargs\u001b[0m\u001b[0;34m)\u001b[0m\u001b[0;34m)\u001b[0m\u001b[0;34m\u001b[0m\u001b[0m\n\u001b[0m\u001b[1;32m    131\u001b[0m \u001b[0;34m\u001b[0m\u001b[0m\n\u001b[1;32m    132\u001b[0m     \u001b[0;32mdef\u001b[0m \u001b[0m__getattr__\u001b[0m\u001b[0;34m(\u001b[0m\u001b[0mself\u001b[0m\u001b[0;34m,\u001b[0m \u001b[0mname\u001b[0m\u001b[0;34m,\u001b[0m \u001b[0;34m**\u001b[0m\u001b[0mkwargs\u001b[0m\u001b[0;34m)\u001b[0m\u001b[0;34m:\u001b[0m\u001b[0;34m\u001b[0m\u001b[0m\n",
      "\u001b[0;32m/Users/salilnavgire/.virtualenvs/testing/lib/python2.7/site-packages/soundcloud/request.pyc\u001b[0m in \u001b[0;36mmake_request\u001b[0;34m(method, url, params)\u001b[0m\n\u001b[1;32m    120\u001b[0m     \u001b[0;32mif\u001b[0m \u001b[0mmethod\u001b[0m \u001b[0;34m==\u001b[0m \u001b[0;34m'get'\u001b[0m\u001b[0;34m:\u001b[0m\u001b[0;34m\u001b[0m\u001b[0m\n\u001b[1;32m    121\u001b[0m         \u001b[0mqs\u001b[0m \u001b[0;34m=\u001b[0m \u001b[0murllib\u001b[0m\u001b[0;34m.\u001b[0m\u001b[0murlencode\u001b[0m\u001b[0;34m(\u001b[0m\u001b[0mdata\u001b[0m\u001b[0;34m)\u001b[0m\u001b[0;34m\u001b[0m\u001b[0m\n\u001b[0;32m--> 122\u001b[0;31m         \u001b[0mresult\u001b[0m \u001b[0;34m=\u001b[0m \u001b[0mrequest_func\u001b[0m\u001b[0;34m(\u001b[0m\u001b[0;34m'%s?%s'\u001b[0m \u001b[0;34m%\u001b[0m \u001b[0;34m(\u001b[0m\u001b[0murl\u001b[0m\u001b[0;34m,\u001b[0m \u001b[0mqs\u001b[0m\u001b[0;34m)\u001b[0m\u001b[0;34m,\u001b[0m \u001b[0;34m**\u001b[0m\u001b[0mkwargs\u001b[0m\u001b[0;34m)\u001b[0m\u001b[0;34m\u001b[0m\u001b[0m\n\u001b[0m\u001b[1;32m    123\u001b[0m     \u001b[0;32melse\u001b[0m\u001b[0;34m:\u001b[0m\u001b[0;34m\u001b[0m\u001b[0m\n\u001b[1;32m    124\u001b[0m         \u001b[0mkwargs\u001b[0m\u001b[0;34m[\u001b[0m\u001b[0;34m'data'\u001b[0m\u001b[0;34m]\u001b[0m \u001b[0;34m=\u001b[0m \u001b[0mdata\u001b[0m\u001b[0;34m\u001b[0m\u001b[0m\n",
      "\u001b[0;32m/Users/salilnavgire/.virtualenvs/testing/lib/python2.7/site-packages/requests/api.pyc\u001b[0m in \u001b[0;36mget\u001b[0;34m(url, **kwargs)\u001b[0m\n\u001b[1;32m     63\u001b[0m \u001b[0;34m\u001b[0m\u001b[0m\n\u001b[1;32m     64\u001b[0m     \u001b[0mkwargs\u001b[0m\u001b[0;34m.\u001b[0m\u001b[0msetdefault\u001b[0m\u001b[0;34m(\u001b[0m\u001b[0;34m'allow_redirects'\u001b[0m\u001b[0;34m,\u001b[0m \u001b[0mTrue\u001b[0m\u001b[0;34m)\u001b[0m\u001b[0;34m\u001b[0m\u001b[0m\n\u001b[0;32m---> 65\u001b[0;31m     \u001b[0;32mreturn\u001b[0m \u001b[0mrequest\u001b[0m\u001b[0;34m(\u001b[0m\u001b[0;34m'get'\u001b[0m\u001b[0;34m,\u001b[0m \u001b[0murl\u001b[0m\u001b[0;34m,\u001b[0m \u001b[0;34m**\u001b[0m\u001b[0mkwargs\u001b[0m\u001b[0;34m)\u001b[0m\u001b[0;34m\u001b[0m\u001b[0m\n\u001b[0m\u001b[1;32m     66\u001b[0m \u001b[0;34m\u001b[0m\u001b[0m\n\u001b[1;32m     67\u001b[0m \u001b[0;34m\u001b[0m\u001b[0m\n",
      "\u001b[0;32m/Users/salilnavgire/.virtualenvs/testing/lib/python2.7/site-packages/requests/api.pyc\u001b[0m in \u001b[0;36mrequest\u001b[0;34m(method, url, **kwargs)\u001b[0m\n\u001b[1;32m     47\u001b[0m \u001b[0;34m\u001b[0m\u001b[0m\n\u001b[1;32m     48\u001b[0m     \u001b[0msession\u001b[0m \u001b[0;34m=\u001b[0m \u001b[0msessions\u001b[0m\u001b[0;34m.\u001b[0m\u001b[0mSession\u001b[0m\u001b[0;34m(\u001b[0m\u001b[0;34m)\u001b[0m\u001b[0;34m\u001b[0m\u001b[0m\n\u001b[0;32m---> 49\u001b[0;31m     \u001b[0mresponse\u001b[0m \u001b[0;34m=\u001b[0m \u001b[0msession\u001b[0m\u001b[0;34m.\u001b[0m\u001b[0mrequest\u001b[0m\u001b[0;34m(\u001b[0m\u001b[0mmethod\u001b[0m\u001b[0;34m=\u001b[0m\u001b[0mmethod\u001b[0m\u001b[0;34m,\u001b[0m \u001b[0murl\u001b[0m\u001b[0;34m=\u001b[0m\u001b[0murl\u001b[0m\u001b[0;34m,\u001b[0m \u001b[0;34m**\u001b[0m\u001b[0mkwargs\u001b[0m\u001b[0;34m)\u001b[0m\u001b[0;34m\u001b[0m\u001b[0m\n\u001b[0m\u001b[1;32m     50\u001b[0m     \u001b[0;31m# By explicitly closing the session, we avoid leaving sockets open which\u001b[0m\u001b[0;34m\u001b[0m\u001b[0;34m\u001b[0m\u001b[0m\n\u001b[1;32m     51\u001b[0m     \u001b[0;31m# can trigger a ResourceWarning in some cases, and look like a memory leak\u001b[0m\u001b[0;34m\u001b[0m\u001b[0;34m\u001b[0m\u001b[0m\n",
      "\u001b[0;32m/Users/salilnavgire/.virtualenvs/testing/lib/python2.7/site-packages/requests/sessions.pyc\u001b[0m in \u001b[0;36mrequest\u001b[0;34m(self, method, url, params, data, headers, cookies, files, auth, timeout, allow_redirects, proxies, hooks, stream, verify, cert, json)\u001b[0m\n\u001b[1;32m    459\u001b[0m         }\n\u001b[1;32m    460\u001b[0m         \u001b[0msend_kwargs\u001b[0m\u001b[0;34m.\u001b[0m\u001b[0mupdate\u001b[0m\u001b[0;34m(\u001b[0m\u001b[0msettings\u001b[0m\u001b[0;34m)\u001b[0m\u001b[0;34m\u001b[0m\u001b[0m\n\u001b[0;32m--> 461\u001b[0;31m         \u001b[0mresp\u001b[0m \u001b[0;34m=\u001b[0m \u001b[0mself\u001b[0m\u001b[0;34m.\u001b[0m\u001b[0msend\u001b[0m\u001b[0;34m(\u001b[0m\u001b[0mprep\u001b[0m\u001b[0;34m,\u001b[0m \u001b[0;34m**\u001b[0m\u001b[0msend_kwargs\u001b[0m\u001b[0;34m)\u001b[0m\u001b[0;34m\u001b[0m\u001b[0m\n\u001b[0m\u001b[1;32m    462\u001b[0m \u001b[0;34m\u001b[0m\u001b[0m\n\u001b[1;32m    463\u001b[0m         \u001b[0;32mreturn\u001b[0m \u001b[0mresp\u001b[0m\u001b[0;34m\u001b[0m\u001b[0m\n",
      "\u001b[0;32m/Users/salilnavgire/.virtualenvs/testing/lib/python2.7/site-packages/requests/sessions.pyc\u001b[0m in \u001b[0;36msend\u001b[0;34m(self, request, **kwargs)\u001b[0m\n\u001b[1;32m    571\u001b[0m \u001b[0;34m\u001b[0m\u001b[0m\n\u001b[1;32m    572\u001b[0m         \u001b[0;31m# Send the request\u001b[0m\u001b[0;34m\u001b[0m\u001b[0;34m\u001b[0m\u001b[0m\n\u001b[0;32m--> 573\u001b[0;31m         \u001b[0mr\u001b[0m \u001b[0;34m=\u001b[0m \u001b[0madapter\u001b[0m\u001b[0;34m.\u001b[0m\u001b[0msend\u001b[0m\u001b[0;34m(\u001b[0m\u001b[0mrequest\u001b[0m\u001b[0;34m,\u001b[0m \u001b[0;34m**\u001b[0m\u001b[0mkwargs\u001b[0m\u001b[0;34m)\u001b[0m\u001b[0;34m\u001b[0m\u001b[0m\n\u001b[0m\u001b[1;32m    574\u001b[0m \u001b[0;34m\u001b[0m\u001b[0m\n\u001b[1;32m    575\u001b[0m         \u001b[0;31m# Total elapsed time of the request (approximately)\u001b[0m\u001b[0;34m\u001b[0m\u001b[0;34m\u001b[0m\u001b[0m\n",
      "\u001b[0;32m/Users/salilnavgire/.virtualenvs/testing/lib/python2.7/site-packages/requests/adapters.pyc\u001b[0m in \u001b[0;36msend\u001b[0;34m(self, request, stream, timeout, verify, cert, proxies)\u001b[0m\n\u001b[1;32m    368\u001b[0m                     \u001b[0mdecode_content\u001b[0m\u001b[0;34m=\u001b[0m\u001b[0mFalse\u001b[0m\u001b[0;34m,\u001b[0m\u001b[0;34m\u001b[0m\u001b[0m\n\u001b[1;32m    369\u001b[0m                     \u001b[0mretries\u001b[0m\u001b[0;34m=\u001b[0m\u001b[0mself\u001b[0m\u001b[0;34m.\u001b[0m\u001b[0mmax_retries\u001b[0m\u001b[0;34m,\u001b[0m\u001b[0;34m\u001b[0m\u001b[0m\n\u001b[0;32m--> 370\u001b[0;31m                     \u001b[0mtimeout\u001b[0m\u001b[0;34m=\u001b[0m\u001b[0mtimeout\u001b[0m\u001b[0;34m\u001b[0m\u001b[0m\n\u001b[0m\u001b[1;32m    371\u001b[0m                 )\n\u001b[1;32m    372\u001b[0m \u001b[0;34m\u001b[0m\u001b[0m\n",
      "\u001b[0;32m/Users/salilnavgire/.virtualenvs/testing/lib/python2.7/site-packages/requests/packages/urllib3/connectionpool.pyc\u001b[0m in \u001b[0;36murlopen\u001b[0;34m(self, method, url, body, headers, retries, redirect, assert_same_host, timeout, pool_timeout, release_conn, **response_kw)\u001b[0m\n\u001b[1;32m    516\u001b[0m             httplib_response = self._make_request(conn, method, url,\n\u001b[1;32m    517\u001b[0m                                                   \u001b[0mtimeout\u001b[0m\u001b[0;34m=\u001b[0m\u001b[0mtimeout\u001b[0m\u001b[0;34m,\u001b[0m\u001b[0;34m\u001b[0m\u001b[0m\n\u001b[0;32m--> 518\u001b[0;31m                                                   body=body, headers=headers)\n\u001b[0m\u001b[1;32m    519\u001b[0m \u001b[0;34m\u001b[0m\u001b[0m\n\u001b[1;32m    520\u001b[0m             \u001b[0;31m# If we're going to release the connection in ``finally:``, then\u001b[0m\u001b[0;34m\u001b[0m\u001b[0;34m\u001b[0m\u001b[0m\n",
      "\u001b[0;32m/Users/salilnavgire/.virtualenvs/testing/lib/python2.7/site-packages/requests/packages/urllib3/connectionpool.pyc\u001b[0m in \u001b[0;36m_make_request\u001b[0;34m(self, conn, method, url, timeout, **httplib_request_kw)\u001b[0m\n\u001b[1;32m    320\u001b[0m         \u001b[0;31m# Trigger any extra validation we need to do.\u001b[0m\u001b[0;34m\u001b[0m\u001b[0;34m\u001b[0m\u001b[0m\n\u001b[1;32m    321\u001b[0m         \u001b[0;32mtry\u001b[0m\u001b[0;34m:\u001b[0m\u001b[0;34m\u001b[0m\u001b[0m\n\u001b[0;32m--> 322\u001b[0;31m             \u001b[0mself\u001b[0m\u001b[0;34m.\u001b[0m\u001b[0m_validate_conn\u001b[0m\u001b[0;34m(\u001b[0m\u001b[0mconn\u001b[0m\u001b[0;34m)\u001b[0m\u001b[0;34m\u001b[0m\u001b[0m\n\u001b[0m\u001b[1;32m    323\u001b[0m         \u001b[0;32mexcept\u001b[0m \u001b[0;34m(\u001b[0m\u001b[0mSocketTimeout\u001b[0m\u001b[0;34m,\u001b[0m \u001b[0mBaseSSLError\u001b[0m\u001b[0;34m)\u001b[0m \u001b[0;32mas\u001b[0m \u001b[0me\u001b[0m\u001b[0;34m:\u001b[0m\u001b[0;34m\u001b[0m\u001b[0m\n\u001b[1;32m    324\u001b[0m             \u001b[0;31m# Py2 raises this as a BaseSSLError, Py3 raises it as socket timeout.\u001b[0m\u001b[0;34m\u001b[0m\u001b[0;34m\u001b[0m\u001b[0m\n",
      "\u001b[0;32m/Users/salilnavgire/.virtualenvs/testing/lib/python2.7/site-packages/requests/packages/urllib3/connectionpool.pyc\u001b[0m in \u001b[0;36m_validate_conn\u001b[0;34m(self, conn)\u001b[0m\n\u001b[1;32m    725\u001b[0m         \u001b[0;31m# Force connect early to allow us to validate the connection.\u001b[0m\u001b[0;34m\u001b[0m\u001b[0;34m\u001b[0m\u001b[0m\n\u001b[1;32m    726\u001b[0m         \u001b[0;32mif\u001b[0m \u001b[0;32mnot\u001b[0m \u001b[0mgetattr\u001b[0m\u001b[0;34m(\u001b[0m\u001b[0mconn\u001b[0m\u001b[0;34m,\u001b[0m \u001b[0;34m'sock'\u001b[0m\u001b[0;34m,\u001b[0m \u001b[0mNone\u001b[0m\u001b[0;34m)\u001b[0m\u001b[0;34m:\u001b[0m  \u001b[0;31m# AppEngine might not have  `.sock`\u001b[0m\u001b[0;34m\u001b[0m\u001b[0m\n\u001b[0;32m--> 727\u001b[0;31m             \u001b[0mconn\u001b[0m\u001b[0;34m.\u001b[0m\u001b[0mconnect\u001b[0m\u001b[0;34m(\u001b[0m\u001b[0;34m)\u001b[0m\u001b[0;34m\u001b[0m\u001b[0m\n\u001b[0m\u001b[1;32m    728\u001b[0m \u001b[0;34m\u001b[0m\u001b[0m\n\u001b[1;32m    729\u001b[0m         \u001b[0;32mif\u001b[0m \u001b[0;32mnot\u001b[0m \u001b[0mconn\u001b[0m\u001b[0;34m.\u001b[0m\u001b[0mis_verified\u001b[0m\u001b[0;34m:\u001b[0m\u001b[0;34m\u001b[0m\u001b[0m\n",
      "\u001b[0;32m/Users/salilnavgire/.virtualenvs/testing/lib/python2.7/site-packages/requests/packages/urllib3/connection.pyc\u001b[0m in \u001b[0;36mconnect\u001b[0;34m(self)\u001b[0m\n\u001b[1;32m    236\u001b[0m                                     \u001b[0mca_certs\u001b[0m\u001b[0;34m=\u001b[0m\u001b[0mself\u001b[0m\u001b[0;34m.\u001b[0m\u001b[0mca_certs\u001b[0m\u001b[0;34m,\u001b[0m\u001b[0;34m\u001b[0m\u001b[0m\n\u001b[1;32m    237\u001b[0m                                     \u001b[0mserver_hostname\u001b[0m\u001b[0;34m=\u001b[0m\u001b[0mhostname\u001b[0m\u001b[0;34m,\u001b[0m\u001b[0;34m\u001b[0m\u001b[0m\n\u001b[0;32m--> 238\u001b[0;31m                                     ssl_version=resolved_ssl_version)\n\u001b[0m\u001b[1;32m    239\u001b[0m \u001b[0;34m\u001b[0m\u001b[0m\n\u001b[1;32m    240\u001b[0m         \u001b[0;32mif\u001b[0m \u001b[0mself\u001b[0m\u001b[0;34m.\u001b[0m\u001b[0massert_fingerprint\u001b[0m\u001b[0;34m:\u001b[0m\u001b[0;34m\u001b[0m\u001b[0m\n",
      "\u001b[0;32m/Users/salilnavgire/.virtualenvs/testing/lib/python2.7/site-packages/requests/packages/urllib3/util/ssl_.pyc\u001b[0m in \u001b[0;36mssl_wrap_socket\u001b[0;34m(sock, keyfile, certfile, cert_reqs, ca_certs, server_hostname, ssl_version, ciphers, ssl_context)\u001b[0m\n\u001b[1;32m    251\u001b[0m         \u001b[0mcontext\u001b[0m\u001b[0;34m.\u001b[0m\u001b[0mload_cert_chain\u001b[0m\u001b[0;34m(\u001b[0m\u001b[0mcertfile\u001b[0m\u001b[0;34m,\u001b[0m \u001b[0mkeyfile\u001b[0m\u001b[0;34m)\u001b[0m\u001b[0;34m\u001b[0m\u001b[0m\n\u001b[1;32m    252\u001b[0m     \u001b[0;32mif\u001b[0m \u001b[0mHAS_SNI\u001b[0m\u001b[0;34m:\u001b[0m  \u001b[0;31m# Platform-specific: OpenSSL with enabled SNI\u001b[0m\u001b[0;34m\u001b[0m\u001b[0m\n\u001b[0;32m--> 253\u001b[0;31m         \u001b[0;32mreturn\u001b[0m \u001b[0mcontext\u001b[0m\u001b[0;34m.\u001b[0m\u001b[0mwrap_socket\u001b[0m\u001b[0;34m(\u001b[0m\u001b[0msock\u001b[0m\u001b[0;34m,\u001b[0m \u001b[0mserver_hostname\u001b[0m\u001b[0;34m=\u001b[0m\u001b[0mserver_hostname\u001b[0m\u001b[0;34m)\u001b[0m\u001b[0;34m\u001b[0m\u001b[0m\n\u001b[0m\u001b[1;32m    254\u001b[0m     \u001b[0;32mreturn\u001b[0m \u001b[0mcontext\u001b[0m\u001b[0;34m.\u001b[0m\u001b[0mwrap_socket\u001b[0m\u001b[0;34m(\u001b[0m\u001b[0msock\u001b[0m\u001b[0;34m)\u001b[0m\u001b[0;34m\u001b[0m\u001b[0m\n",
      "\u001b[0;32m/usr/local/Cellar/python/2.7.9/Frameworks/Python.framework/Versions/2.7/lib/python2.7/ssl.pyc\u001b[0m in \u001b[0;36mwrap_socket\u001b[0;34m(self, sock, server_side, do_handshake_on_connect, suppress_ragged_eofs, server_hostname)\u001b[0m\n\u001b[1;32m    348\u001b[0m                          \u001b[0msuppress_ragged_eofs\u001b[0m\u001b[0;34m=\u001b[0m\u001b[0msuppress_ragged_eofs\u001b[0m\u001b[0;34m,\u001b[0m\u001b[0;34m\u001b[0m\u001b[0m\n\u001b[1;32m    349\u001b[0m                          \u001b[0mserver_hostname\u001b[0m\u001b[0;34m=\u001b[0m\u001b[0mserver_hostname\u001b[0m\u001b[0;34m,\u001b[0m\u001b[0;34m\u001b[0m\u001b[0m\n\u001b[0;32m--> 350\u001b[0;31m                          _context=self)\n\u001b[0m\u001b[1;32m    351\u001b[0m \u001b[0;34m\u001b[0m\u001b[0m\n\u001b[1;32m    352\u001b[0m     \u001b[0;32mdef\u001b[0m \u001b[0mset_npn_protocols\u001b[0m\u001b[0;34m(\u001b[0m\u001b[0mself\u001b[0m\u001b[0;34m,\u001b[0m \u001b[0mnpn_protocols\u001b[0m\u001b[0;34m)\u001b[0m\u001b[0;34m:\u001b[0m\u001b[0;34m\u001b[0m\u001b[0m\n",
      "\u001b[0;32m/usr/local/Cellar/python/2.7.9/Frameworks/Python.framework/Versions/2.7/lib/python2.7/ssl.pyc\u001b[0m in \u001b[0;36m__init__\u001b[0;34m(self, sock, keyfile, certfile, server_side, cert_reqs, ssl_version, ca_certs, do_handshake_on_connect, family, type, proto, fileno, suppress_ragged_eofs, npn_protocols, ciphers, server_hostname, _context)\u001b[0m\n\u001b[1;32m    564\u001b[0m                         \u001b[0;31m# non-blocking\u001b[0m\u001b[0;34m\u001b[0m\u001b[0;34m\u001b[0m\u001b[0m\n\u001b[1;32m    565\u001b[0m                         \u001b[0;32mraise\u001b[0m \u001b[0mValueError\u001b[0m\u001b[0;34m(\u001b[0m\u001b[0;34m\"do_handshake_on_connect should not be specified for non-blocking sockets\"\u001b[0m\u001b[0;34m)\u001b[0m\u001b[0;34m\u001b[0m\u001b[0m\n\u001b[0;32m--> 566\u001b[0;31m                     \u001b[0mself\u001b[0m\u001b[0;34m.\u001b[0m\u001b[0mdo_handshake\u001b[0m\u001b[0;34m(\u001b[0m\u001b[0;34m)\u001b[0m\u001b[0;34m\u001b[0m\u001b[0m\n\u001b[0m\u001b[1;32m    567\u001b[0m \u001b[0;34m\u001b[0m\u001b[0m\n\u001b[1;32m    568\u001b[0m             \u001b[0;32mexcept\u001b[0m \u001b[0;34m(\u001b[0m\u001b[0mOSError\u001b[0m\u001b[0;34m,\u001b[0m \u001b[0mValueError\u001b[0m\u001b[0;34m)\u001b[0m\u001b[0;34m:\u001b[0m\u001b[0;34m\u001b[0m\u001b[0m\n",
      "\u001b[0;32m/usr/local/Cellar/python/2.7.9/Frameworks/Python.framework/Versions/2.7/lib/python2.7/ssl.pyc\u001b[0m in \u001b[0;36mdo_handshake\u001b[0;34m(self, block)\u001b[0m\n\u001b[1;32m    786\u001b[0m             \u001b[0;32mif\u001b[0m \u001b[0mtimeout\u001b[0m \u001b[0;34m==\u001b[0m \u001b[0;36m0.0\u001b[0m \u001b[0;32mand\u001b[0m \u001b[0mblock\u001b[0m\u001b[0;34m:\u001b[0m\u001b[0;34m\u001b[0m\u001b[0m\n\u001b[1;32m    787\u001b[0m                 \u001b[0mself\u001b[0m\u001b[0;34m.\u001b[0m\u001b[0msettimeout\u001b[0m\u001b[0;34m(\u001b[0m\u001b[0mNone\u001b[0m\u001b[0;34m)\u001b[0m\u001b[0;34m\u001b[0m\u001b[0m\n\u001b[0;32m--> 788\u001b[0;31m             \u001b[0mself\u001b[0m\u001b[0;34m.\u001b[0m\u001b[0m_sslobj\u001b[0m\u001b[0;34m.\u001b[0m\u001b[0mdo_handshake\u001b[0m\u001b[0;34m(\u001b[0m\u001b[0;34m)\u001b[0m\u001b[0;34m\u001b[0m\u001b[0m\n\u001b[0m\u001b[1;32m    789\u001b[0m         \u001b[0;32mfinally\u001b[0m\u001b[0;34m:\u001b[0m\u001b[0;34m\u001b[0m\u001b[0m\n\u001b[1;32m    790\u001b[0m             \u001b[0mself\u001b[0m\u001b[0;34m.\u001b[0m\u001b[0msettimeout\u001b[0m\u001b[0;34m(\u001b[0m\u001b[0mtimeout\u001b[0m\u001b[0;34m)\u001b[0m\u001b[0;34m\u001b[0m\u001b[0m\n",
      "\u001b[0;31mKeyboardInterrupt\u001b[0m: "
     ]
    }
   ],
   "source": [
    "\n",
    "\n",
    "for res in user_info[0:1]:\n",
    "    attrs = vars(res)['obj']\n",
    "    #print json.dumps(attrs, separators=(',',':'), indent=4)\n",
    "    print attrs['id']\n",
    "    track_info = client.get('/tracks', user_id=attrs['id'])\n",
    "    #print track_info\n",
    "    #user_info = client.get('/tracks/'+attrs['id']+'/comments/', )\n",
    "    sen = []\n",
    "    for res in track_info:\n",
    "        attrs = vars(res)\n",
    "        com_id = attrs['obj']['id']\n",
    "        #print com_id\n",
    "        comment_info = client.get('/tracks/'+str(com_id)+'/comments/', )\n",
    "        #print comment_info\n",
    "        \n",
    "        for res in comment_info:\n",
    "            attrsssss = vars(res)['obj']\n",
    "            #print attrsssss['body']\n",
    "            #print sentiment(attrsssss['body'])\n",
    "            sen.append(float(sentiment(attrsssss['body'])))\n",
    "    print sum(sen)/(np.maximum(len(sen), 1.0))\n",
    "        \n",
    "\n"
   ]
  },
  {
   "cell_type": "code",
   "execution_count": 206,
   "metadata": {
    "collapsed": false
   },
   "outputs": [],
   "source": [
    "\n",
    "def get_sentiment(ids):\n",
    "    sen = []\n",
    "    track_info = client.get('/tracks', user_id=ids)\n",
    "    some_dict = defaultdict()\n",
    "    for res in track_info:\n",
    "        track_sen = []\n",
    "        attrs = vars(res)\n",
    "        #print\n",
    "        com_id = attrs['obj']['id']\n",
    "        comment_info = client.get('/tracks/'+str(com_id)+'/comments/', )\n",
    "        #tracky = client.get()\n",
    "        commen = 0\n",
    "        for res in comment_info:\n",
    "            commen+=1\n",
    "            attrsssss = vars(res)['obj']\n",
    "            #print attrsssss\n",
    "            #print \n",
    "            something = float(sentiment(attrsssss['body']))\n",
    "            sen.append(something)\n",
    "            track_sen.append(something)\n",
    "            #track_sen[str(attrs['obj']['permalink_url'])]+=float(sentiment(attrsssss['body']))\n",
    "        #print attrs['obj']['permalink_url'], sum(track_sen)\n",
    "        some_dict[attrs['obj']['permalink_url']] = (sum(track_sen)/(np.maximum(len(sen), 1.0)))*(commen)\n",
    "    print sum(sen)/(np.maximum(len(sen), 1.0))\n",
    "    #print sorted(some_dict)\n",
    "    sorted_x = sorted(some_dict.items(), key=operator.itemgetter(1))[::-1]\n",
    "    print sorted_x[:3]\n",
    "    return sum(sen)/(np.maximum(len(sen), 1.0)), sorted_x[:3]"
   ]
  },
  {
   "cell_type": "code",
   "execution_count": 194,
   "metadata": {
    "collapsed": false,
    "scrolled": true
   },
   "outputs": [
    {
     "name": "stdout",
     "output_type": "stream",
     "text": [
      "3.92248564698\n",
      "[(u'http://soundcloud.com/hellcatrecords/rancid-evils-my-friend', 0.024836623380783848), (u'http://soundcloud.com/hellcatrecords/03-up-to-no-good', 0.023287271266468668), (u'http://soundcloud.com/hellcatrecords/04-last-one-to-die', 0.020441932757857138)]\n"
     ]
    }
   ],
   "source": [
    "\n",
    "avg_sen = get_sentiment(attrs['id'])\n"
   ]
  },
  {
   "cell_type": "code",
   "execution_count": 135,
   "metadata": {
    "collapsed": false
   },
   "outputs": [],
   "source": [
    "def get_sentiment_new(ids):\n",
    "    track_info = client.get('/tracks', user_id=ids)\n",
    "    sen = []\n",
    "    for res in track_info:\n",
    "        attrs = vars(res)\n",
    "        com_id = attrs['obj']['id']\n",
    "        comment_info = client.get('/tracks/'+str(com_id)+'/comments/', )\n",
    "        new_sen = []\n",
    "        for res in comment_info:\n",
    "            attrsssss = vars(res)['obj']\n",
    "            sen.append(float(sentiment(attrsssss['body'])))\n",
    "            new_sen.append(float(sentiment(attrsssss['body'])))\n",
    "    print sum(sen)/(np.maximum(len(sen), 1.0))\n",
    "    return sum(sen)/(np.maximum(len(sen), 1.0))\n"
   ]
  },
  {
   "cell_type": "code",
   "execution_count": null,
   "metadata": {
    "collapsed": true
   },
   "outputs": [],
   "source": [
    "\n"
   ]
  },
  {
   "cell_type": "code",
   "execution_count": null,
   "metadata": {
    "collapsed": true
   },
   "outputs": [],
   "source": []
  }
 ],
 "metadata": {
  "kernelspec": {
   "display_name": "Python 2",
   "language": "python",
   "name": "python2"
  },
  "language_info": {
   "codemirror_mode": {
    "name": "ipython",
    "version": 2
   },
   "file_extension": ".py",
   "mimetype": "text/x-python",
   "name": "python",
   "nbconvert_exporter": "python",
   "pygments_lexer": "ipython2",
   "version": "2.7.9"
  }
 },
 "nbformat": 4,
 "nbformat_minor": 0
}
